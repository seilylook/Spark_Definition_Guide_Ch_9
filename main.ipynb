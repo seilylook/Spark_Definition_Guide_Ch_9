{
 "cells": [
  {
   "cell_type": "code",
   "execution_count": 1,
   "id": "5cbe42a1-ff64-4598-95f5-ac49e1a7ae7d",
   "metadata": {},
   "outputs": [
    {
     "name": "stderr",
     "output_type": "stream",
     "text": [
      "24/10/07 15:23:25 WARN Utils: Your hostname, gimsehyeon-ui-MacBookPro.local resolves to a loopback address: 127.0.0.1; using 172.30.1.34 instead (on interface en0)\n",
      "24/10/07 15:23:25 WARN Utils: Set SPARK_LOCAL_IP if you need to bind to another address\n",
      "Setting default log level to \"WARN\".\n",
      "To adjust logging level use sc.setLogLevel(newLevel). For SparkR, use setLogLevel(newLevel).\n",
      "24/10/07 15:23:25 WARN NativeCodeLoader: Unable to load native-hadoop library for your platform... using builtin-java classes where applicable\n"
     ]
    }
   ],
   "source": [
    "from pyspark.sql import SparkSession\n",
    "\n",
    "spark = SparkSession.builder \\\n",
    ".appName(\"chapter9\") \\\n",
    ".getOrCreate()"
   ]
  },
  {
   "cell_type": "markdown",
   "id": "c4dbb763-dd61-4353-bc0f-e0a6784f91ef",
   "metadata": {},
   "source": [
    "## 데이터소스 API의 구조\n",
    "\n",
    "### 읽기 API 구조\n",
    "\n",
    "\n",
    "```\n",
    "DataFrameReader.format(...) \\\n",
    ".option(\"KEY\", \"VALUE\") \\\n",
    ".schema(...) \\\n",
    ".load()\n",
    "```\n",
    "\n",
    "```\n",
    "spark.read.format(\"csv\") \\\n",
    ".option(\"header\", \"true\") \\\n",
    ".option(\"mode\", \"FAILFAST\") \\\n",
    ".option(\"inferschema\", \"true\") \\\n",
    ".option(\"path\", \"path/to/file(s)\") \\\n",
    ".schema(SOME_SCHEMA) \\\n",
    ".load()\n",
    "```"
   ]
  },
  {
   "cell_type": "markdown",
   "id": "56adf84a-f347-412c-a2e6-fa7d66587654",
   "metadata": {},
   "source": [
    "### 쓰기 API 구조\n",
    "\n",
    "```\n",
    "DataFrameWriter.format(...) \\\n",
    ".partitionBy(...) \\\n",
    ".bucketBy(...)\\ \n",
    ".sortBy(...) \\\n",
    ".save()\n",
    "```\n",
    "\n",
    "```\n",
    "spark.write.format('csv') \\\n",
    ".option(\"mode\", \"OVERWRITE\") \\\n",
    ".option(\"dataFormat\", \"yyyy-WW-dd\") \\\n",
    ".option(\"path\", \"path/to/file(s)\") \\\n",
    ".save()\n",
    "```"
   ]
  },
  {
   "cell_type": "markdown",
   "id": "b2374b7d-aea5-48c3-9dff-20e102a60cb7",
   "metadata": {},
   "source": [
    "## CSV 파일"
   ]
  },
  {
   "cell_type": "markdown",
   "id": "96f0b3e5-f28a-45a1-8603-ae3ad5170952",
   "metadata": {},
   "source": [
    "### CSV 파일 읽기"
   ]
  },
  {
   "cell_type": "code",
   "execution_count": 28,
   "id": "9155c18c-3f63-496e-bec3-e95dc1cf1383",
   "metadata": {},
   "outputs": [],
   "source": [
    "csvFile = spark.read.format('csv') \\\n",
    ".option('header', 'true') \\\n",
    ".option('mode', 'FAILFAST') \\\n",
    ".option('inferschema', 'true') \\\n",
    ".load('./data/flight-data/csv/2010-summary.csv')"
   ]
  },
  {
   "cell_type": "markdown",
   "id": "302528ae-8350-42f0-968a-8ec47cefd6aa",
   "metadata": {},
   "source": [
    "### CSV 파일 쓰기"
   ]
  },
  {
   "cell_type": "code",
   "execution_count": 29,
   "id": "9b3ca23d-4172-4770-8d1b-6a37ad612124",
   "metadata": {},
   "outputs": [],
   "source": [
    "csvFile.write.format('csv').mode('overwrite').option('sep', '\\t').save('/tmp/my-tsv-file.csv')"
   ]
  },
  {
   "cell_type": "markdown",
   "id": "0a5192f5-2001-4cee-9487-3f4756d8dc07",
   "metadata": {},
   "source": [
    "## JSON 파일"
   ]
  },
  {
   "cell_type": "markdown",
   "id": "3cd3cd63-9fb7-4adf-96a9-8ae30edf9db3",
   "metadata": {},
   "source": [
    "### JSON 파일 읽기"
   ]
  },
  {
   "cell_type": "code",
   "execution_count": 30,
   "id": "9354011c-29ba-4600-abdd-f32e3f60a962",
   "metadata": {},
   "outputs": [
    {
     "name": "stdout",
     "output_type": "stream",
     "text": [
      "+-----------------+-------------------+-----+\n",
      "|DEST_COUNTRY_NAME|ORIGIN_COUNTRY_NAME|count|\n",
      "+-----------------+-------------------+-----+\n",
      "|    United States|            Romania|    1|\n",
      "|    United States|            Ireland|  264|\n",
      "|    United States|              India|   69|\n",
      "|            Egypt|      United States|   24|\n",
      "|Equatorial Guinea|      United States|    1|\n",
      "+-----------------+-------------------+-----+\n",
      "only showing top 5 rows\n",
      "\n"
     ]
    }
   ],
   "source": [
    "spark.read.format(\"json\") \\\n",
    ".option('mode', \"FAILFAST\") \\\n",
    ".option('inferschema', 'true')\\\n",
    ".load('./data/flight-data/json/2010-summary.json')\\\n",
    ".show(5)"
   ]
  },
  {
   "cell_type": "markdown",
   "id": "dbf63458-a3ce-4667-9eb0-c768e62885a1",
   "metadata": {},
   "source": [
    "### JSON 파일 쓰기"
   ]
  },
  {
   "cell_type": "code",
   "execution_count": 31,
   "id": "f408492b-a031-48a2-a42d-5233c758db13",
   "metadata": {},
   "outputs": [],
   "source": [
    "csvFile.write.format('json') \\\n",
    ".mode('overwrite')\\\n",
    ".save('/tmp/my-json-file.json')"
   ]
  },
  {
   "cell_type": "markdown",
   "id": "06406097-6014-41d8-be9b-d76c98653c98",
   "metadata": {},
   "source": [
    "## 파케이 파일"
   ]
  },
  {
   "cell_type": "markdown",
   "id": "8b9208db-9c02-4666-a9a8-6e460ad1ff04",
   "metadata": {},
   "source": [
    "### 파케이 파일 읽기"
   ]
  },
  {
   "cell_type": "code",
   "execution_count": 32,
   "id": "ff9731be-0ba7-49ad-87d5-ae6fe2385772",
   "metadata": {},
   "outputs": [
    {
     "name": "stdout",
     "output_type": "stream",
     "text": [
      "+-----------------+-------------------+-----+\n",
      "|DEST_COUNTRY_NAME|ORIGIN_COUNTRY_NAME|count|\n",
      "+-----------------+-------------------+-----+\n",
      "|    United States|            Romania|    1|\n",
      "|    United States|            Ireland|  264|\n",
      "|    United States|              India|   69|\n",
      "|            Egypt|      United States|   24|\n",
      "|Equatorial Guinea|      United States|    1|\n",
      "+-----------------+-------------------+-----+\n",
      "only showing top 5 rows\n",
      "\n"
     ]
    }
   ],
   "source": [
    "spark.read.format('parquet') \\\n",
    ".load('./data/flight-data/parquet/2010-summary.parquet') \\\n",
    ".show(5)"
   ]
  },
  {
   "cell_type": "markdown",
   "id": "39c9cecc-4ee5-43a9-bad3-c1ba091efaec",
   "metadata": {},
   "source": [
    "### 파케이 파일 쓰기"
   ]
  },
  {
   "cell_type": "code",
   "execution_count": 33,
   "id": "458823bc-2047-4ed8-89ad-c19c5efa683f",
   "metadata": {},
   "outputs": [],
   "source": [
    "csvFile.write.format('parquet').mode('overwrite')\\\n",
    ".save('/tmp/my-parquet-file.parquet')"
   ]
  },
  {
   "cell_type": "markdown",
   "id": "cdff0619-3508-42e7-b7a1-c53f67d829f3",
   "metadata": {},
   "source": [
    "## ORC 파일"
   ]
  },
  {
   "cell_type": "markdown",
   "id": "758c1b8f-f0f1-43c9-a44c-0e2231d1ec3c",
   "metadata": {},
   "source": [
    "### ORC 파일 읽기"
   ]
  },
  {
   "cell_type": "code",
   "execution_count": 34,
   "id": "c4063698-31ab-4981-997e-563b761eacfc",
   "metadata": {},
   "outputs": [
    {
     "name": "stdout",
     "output_type": "stream",
     "text": [
      "+-----------------+-------------------+-----+\n",
      "|DEST_COUNTRY_NAME|ORIGIN_COUNTRY_NAME|count|\n",
      "+-----------------+-------------------+-----+\n",
      "|    United States|            Romania|    1|\n",
      "|    United States|            Ireland|  264|\n",
      "|    United States|              India|   69|\n",
      "|            Egypt|      United States|   24|\n",
      "|Equatorial Guinea|      United States|    1|\n",
      "+-----------------+-------------------+-----+\n",
      "only showing top 5 rows\n",
      "\n"
     ]
    }
   ],
   "source": [
    "spark.read.format('orc').load('./data/flight-data/orc/2010-summary.orc').show(5)"
   ]
  },
  {
   "cell_type": "markdown",
   "id": "82cb85bc-4533-4f6b-8532-c1df94288a83",
   "metadata": {},
   "source": [
    "### ORC 파일 쓰기"
   ]
  },
  {
   "cell_type": "code",
   "execution_count": 35,
   "id": "80d28c60-341e-4cbb-83df-689eaa7ec853",
   "metadata": {},
   "outputs": [],
   "source": [
    "csvFile.write.format('orc').mode('overwrite').save('/tmp/my-orc-file.orc')"
   ]
  },
  {
   "cell_type": "markdown",
   "id": "3b7a213f-99a2-4009-8983-beffed9230ac",
   "metadata": {},
   "source": [
    "## 고급 I/O 개념"
   ]
  },
  {
   "cell_type": "markdown",
   "id": "8d57ce4d-c1ed-4fa9-b0a1-d190c327aad0",
   "metadata": {},
   "source": [
    "### 병렬로 데이터 읽기\n",
    "\n",
    "여러 익스큐터가 같은 파일을 동시에 읽을 수는 없지만 여러 파일을 동시에 읽을 수는 있다. 다수의 파일이 존재하는 폴더를 읽을 때 폴더의 개별 파일은 DataFrame의 파티션이 된다.\n",
    "\n",
    "따라서 사용 가능한 익스큐터를 이용해 병렬(익스큐터 수를 넘어가는 파일은 처리 중인 파일이 완료될 때까지 대기)로 파일을 읽는다."
   ]
  },
  {
   "cell_type": "markdown",
   "id": "4c8fa957-5021-4516-8740-549d89b10100",
   "metadata": {},
   "source": [
    "### 병렬로 데이터 쓰기\n",
    "\n",
    "파일이나 데이터 수는 데이터를 쓰는 시점에 DataFrame이 가진 파티션 수에 따라 달라질 수 있다. 기본적으로 데이터 파티션당 하나의 파일이 작성된다.\n",
    "\n",
    "따라서 옵션에 지정된 파일명은 실제로는 다수의 파일을 가진 디렉터리이다. 그리고 디렉터리 안에 파티션당 하나의 파일로 데이터를 저장한다.\n",
    "\n",
    "다음은 폴더 안에 5개의 파일을 생성한다."
   ]
  },
  {
   "cell_type": "code",
   "execution_count": 38,
   "id": "985ae086-b5c2-41c4-b2bf-c62d8a1769aa",
   "metadata": {},
   "outputs": [],
   "source": [
    "csvFile.repartition(5).write.format('csv').mode('overwrite').save('/tmp/multiple.csv')"
   ]
  },
  {
   "cell_type": "code",
   "execution_count": 39,
   "id": "6d86ba97-0e40-432a-adb4-1f07b9940c62",
   "metadata": {},
   "outputs": [
    {
     "name": "stdout",
     "output_type": "stream",
     "text": [
      "_SUCCESS\n",
      "part-00000-a19e3c0a-0314-4117-b2f0-ea0f0bc2f26d-c000.csv\n",
      "part-00001-a19e3c0a-0314-4117-b2f0-ea0f0bc2f26d-c000.csv\n",
      "part-00002-a19e3c0a-0314-4117-b2f0-ea0f0bc2f26d-c000.csv\n",
      "part-00003-a19e3c0a-0314-4117-b2f0-ea0f0bc2f26d-c000.csv\n",
      "part-00004-a19e3c0a-0314-4117-b2f0-ea0f0bc2f26d-c000.csv\n"
     ]
    }
   ],
   "source": [
    "ls /tmp/multiple.csv"
   ]
  },
  {
   "cell_type": "markdown",
   "id": "4c35bd9b-07f7-4577-aa09-5bc10bc02c4e",
   "metadata": {},
   "source": [
    "### 파티셔닝\n",
    "\n",
    "파티셔닝은 어떤 데이터를 어디에 저장할 것인지 제어할 수 있는 기능이다. 파티셔닝된 디렉터리 또는 테이블에 파일을 쓸 때 디렉터리 별로 컬럼 데이터를 인코딩해 저장한다. \n",
    "\n",
    "그러므로 데이터를 읽을 때 전체 데이터셋을 스캔하지 않고 필요한 컬럼의 데이터만 읽을 수 있다."
   ]
  },
  {
   "cell_type": "code",
   "execution_count": 42,
   "id": "38f49b9d-2eb8-4883-bd55-f45fc84fb139",
   "metadata": {},
   "outputs": [],
   "source": [
    "csvFile.limit(10).write.mode('overwrite').partitionBy(\"DEST_COUNTRY_NAME\") \\\n",
    ".save(\"/tmp/partitioned-files.parquet\")"
   ]
  },
  {
   "cell_type": "code",
   "execution_count": 43,
   "id": "49aeb7bb-87f9-44d5-830d-ba049de9de4a",
   "metadata": {},
   "outputs": [
    {
     "name": "stdout",
     "output_type": "stream",
     "text": [
      "\u001b[1m\u001b[36mDEST_COUNTRY_NAME=Costa Rica\u001b[m\u001b[m/        \u001b[1m\u001b[36mDEST_COUNTRY_NAME=Senegal\u001b[m\u001b[m/\n",
      "\u001b[1m\u001b[36mDEST_COUNTRY_NAME=Egypt\u001b[m\u001b[m/             \u001b[1m\u001b[36mDEST_COUNTRY_NAME=United States\u001b[m\u001b[m/\n",
      "\u001b[1m\u001b[36mDEST_COUNTRY_NAME=Equatorial Guinea\u001b[m\u001b[m/ _SUCCESS\n"
     ]
    }
   ],
   "source": [
    "ls /tmp/partitioned-files.parquet"
   ]
  },
  {
   "cell_type": "markdown",
   "id": "f237bd1e-e4fa-4d3a-86c8-135f9e8c6f5c",
   "metadata": {},
   "source": [
    "### 버켓팅\n",
    "\n",
    "버켓팅은 각 파일에 저장된 데이터를 제어할 수 있는 또 다른 파일 조직화 기법이다. \n",
    "\n",
    "이 기법을 사용하면 동일한 버킷 ID를 가진 데이터가 하나의 물리적 파티션에 모두 모여 있기 때문에 데이터를 읽을 때 셔플을 피할 수 있다. 데이터가 이후의 사용 방식에 맞춰 사전에 파티셔닝 되므로 조인이나 집계 시 발생하는 고비용의 셔플을 피할 수 있다."
   ]
  },
  {
   "cell_type": "code",
   "execution_count": 52,
   "id": "2bf393bd-151f-4d0b-80aa-4dadd949f9b5",
   "metadata": {},
   "outputs": [],
   "source": [
    "number_buckets = 10\n",
    "column_to_bucket = \"count\"\n",
    "\n",
    "csvFile.write.format('parquet').mode('overwrite').bucketBy(number_buckets, column_to_bucket).saveAsTable('bucketedFiles')"
   ]
  }
 ],
 "metadata": {
  "kernelspec": {
   "display_name": "Python 3 (ipykernel)",
   "language": "python",
   "name": "python3"
  },
  "language_info": {
   "codemirror_mode": {
    "name": "ipython",
    "version": 3
   },
   "file_extension": ".py",
   "mimetype": "text/x-python",
   "name": "python",
   "nbconvert_exporter": "python",
   "pygments_lexer": "ipython3",
   "version": "3.9.6"
  }
 },
 "nbformat": 4,
 "nbformat_minor": 5
}
